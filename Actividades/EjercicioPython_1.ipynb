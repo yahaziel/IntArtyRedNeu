{
  "nbformat": 4,
  "nbformat_minor": 0,
  "metadata": {
    "colab": {
      "provenance": []
    },
    "kernelspec": {
      "name": "python3",
      "display_name": "Python 3"
    },
    "language_info": {
      "name": "python"
    }
  },
  "cells": [
    {
      "cell_type": "markdown",
      "source": [
        "Actividad 2: Diseño de algoritmos en Python\n",
        "David Yahaziel Díaz Guillén 2109534 N1"
      ],
      "metadata": {
        "id": "PV-0lsIvtAWx"
      }
    },
    {
      "cell_type": "code",
      "execution_count": null,
      "metadata": {
        "colab": {
          "base_uri": "https://localhost:8080/"
        },
        "id": "ovRG0z1X5-Sq",
        "outputId": "9fc23027-2d45-4479-825e-925365a8e729"
      },
      "outputs": [
        {
          "output_type": "stream",
          "name": "stdout",
          "text": [
            "Cuál es tu nombre? Ana\n",
            "Hola\n"
          ]
        }
      ],
      "source": [
        "#Desarrolla un algoritmo que le pida al usuario por su nombre y que lo salude con su nombre, excepto si se llama “Ana”, “Juan”, y “Pedro”.\n",
        "\n",
        "nombre=input(\"Cuál es tu nombre? \")\n",
        "if nombre not in (\"Ana\",\"Juan\",\"Pedro\"):\n",
        "  print(\"Hola\",nombre)\n",
        "else:\n",
        "  print(\"Hola\")\n",
        "\n"
      ]
    },
    {
      "cell_type": "code",
      "source": [
        "#Desarrolla un algoritmo que por medio de una función, le pida al usuario una lista de N elementos y como resultado invierta el sentido de la lista.\n",
        "\n",
        "x=input(\"Cuantos elementos contiene la lista?\")\n",
        "n=int(x)\n",
        "lista =[]\n",
        "for i in range(n):\n",
        "  l1=input(\"Ingrese un elemnto de la lista: \")\n",
        "  lista.append(l1)\n",
        "\n",
        "invertir=lista[::-1]\n",
        "print(invertir)"
      ],
      "metadata": {
        "colab": {
          "base_uri": "https://localhost:8080/"
        },
        "id": "YPNMnZkv7CMC",
        "outputId": "413a5ecd-41f2-4bf3-9451-656090dca20d"
      },
      "execution_count": null,
      "outputs": [
        {
          "output_type": "stream",
          "name": "stdout",
          "text": [
            "Cuantos elementos contiene la lista?5\n",
            "Ingrese un elemnto de la lista: Da\n",
            "Ingrese un elemnto de la lista: De\n",
            "Ingrese un elemnto de la lista: Di\n",
            "Ingrese un elemnto de la lista: Do\n",
            "Ingrese un elemnto de la lista: Du\n",
            "['Du', 'Do', 'Di', 'De', 'Da']\n"
          ]
        }
      ]
    },
    {
      "cell_type": "code",
      "source": [
        "#Desarrolla un algoritmo que le pregunte al usuario cuántos números de la serie de Fibonacci quiere generar y que al final los imprima.\n",
        "n = int(input(\"¿Cuántos números de Fibonacci quieres generar? \"))\n",
        "if n <= 0:\n",
        "  x=[]\n",
        "elif n == 1:\n",
        "  x=[0]\n",
        "elif n == 2:\n",
        "  x=[0,1]\n",
        "else:\n",
        "    x = [0, 1]\n",
        "    for i in range(2, n):\n",
        "        x.append(x[-1] + x[-2])\n",
        "print(\"La secuencia de Fibonacci es:\", x)\n"
      ],
      "metadata": {
        "colab": {
          "base_uri": "https://localhost:8080/"
        },
        "id": "83_SOQrv95Le",
        "outputId": "5916ddde-da8a-494c-f286-8aa30bd87810"
      },
      "execution_count": null,
      "outputs": [
        {
          "output_type": "stream",
          "name": "stdout",
          "text": [
            "¿Cuántos números de Fibonacci quieres generar? 10\n",
            "La secuencia de Fibonacci es: [0, 1, 1, 2, 3, 5, 8, 13, 21, 34]\n"
          ]
        }
      ]
    },
    {
      "cell_type": "code",
      "source": [
        "#Juego de adivinar el número: Crea un programa que genere un número aleatorio entre 1 y 100, y luego le pida al usuario que adivine el número.\n",
        "#El programa debe proporcionar pistas al usuario si el número es mayor o menor que el número objetivo, y seguir solicitando un nuevo intento hasta que el usuario adivine correctamente.\n",
        "\n",
        "import random\n",
        "numero=random.randint(1,100)\n",
        "i=0\n",
        "while i==0:\n",
        "  n=input(\"Adivina el número entre 1 y 100: \")\n",
        "  x=int(n)\n",
        "  if x>100:\n",
        "    print(\"Es entre 1 y 100 \\n\")\n",
        "  elif x>numero:\n",
        "    print(\"El numero es menor \\n\")\n",
        "  elif x<numero:\n",
        "    print(\"El numero es mayor \\n\")\n",
        "  else:\n",
        "    print(\"Felicidades, el numero era\",numero)\n",
        "    i += 1"
      ],
      "metadata": {
        "colab": {
          "base_uri": "https://localhost:8080/"
        },
        "id": "MfqBxR0ps2J8",
        "outputId": "5d6e8114-55de-44e3-9d2c-a69a46f1ab02"
      },
      "execution_count": 4,
      "outputs": [
        {
          "output_type": "stream",
          "name": "stdout",
          "text": [
            "Adivina el número entre 1 y 100: 50\n",
            "El numero es menor \n",
            "\n",
            "Adivina el número entre 1 y 100: 25\n",
            "El numero es mayor \n",
            "\n",
            "Adivina el número entre 1 y 100: 35\n",
            "El numero es mayor \n",
            "\n",
            "Adivina el número entre 1 y 100: 45\n",
            "El numero es menor \n",
            "\n",
            "Adivina el número entre 1 y 100: 40\n",
            "Felicidades, el numero era 40\n"
          ]
        }
      ]
    },
    {
      "cell_type": "code",
      "source": [
        "#Ejercicio de cálculo de números primos en un rango dado: Escribe un programa que solicite al usuario un rango de números y muestre todos los números primos dentro de ese rango.\n",
        "\n",
        "def es_primo(numero):\n",
        "    if numero <= 1:\n",
        "        return False\n",
        "    elif numero <= 3:\n",
        "        return True\n",
        "    elif numero % 2 == 0 or numero % 3 == 0:\n",
        "        return False\n",
        "    i = 5\n",
        "    while i * i <= numero:\n",
        "        if numero % i == 0 or numero % (i + 2) == 0:\n",
        "            return False\n",
        "        i += 6\n",
        "    return True\n",
        "\n",
        "inicio = int(input(\"Inicio del rango: \"))\n",
        "final = int(input(\"Final del rango: \"))\n",
        "\n",
        "primos = []\n",
        "for numero in range (inicio,final+1):\n",
        "  if es_primo(numero):\n",
        "    primos.append(numero)\n",
        "\n",
        "\n",
        "print(\"Los números primos en el rango de\",inicio, \"a\",final,\"son:\" )\n",
        "print(primos)\n"
      ],
      "metadata": {
        "colab": {
          "base_uri": "https://localhost:8080/"
        },
        "id": "1tNPHk_kbTur",
        "outputId": "4bdc2249-2a9e-4ddc-ceda-43c4c28fd5b5"
      },
      "execution_count": null,
      "outputs": [
        {
          "output_type": "stream",
          "name": "stdout",
          "text": [
            "Inicio del rango: 0\n",
            "Final del rango: 100\n",
            "Los números primos en el rango de 0 a 100 son:\n",
            "[2, 3, 5, 7, 11, 13, 17, 19, 23, 29, 31, 37, 41, 43, 47, 53, 59, 61, 67, 71, 73, 79, 83, 89, 97]\n"
          ]
        }
      ]
    },
    {
      "cell_type": "code",
      "source": [
        "#Ejercicio de implementación de una calculadora básica utilizando funciones: Escribe un programa que solicite al usuario dos números y\n",
        "#realice operaciones básicas como suma, resta, multiplicación y división utilizando funciones separadas para cada operación.\n",
        "\n",
        "num1 = float(input(\"Introduce el primer número: \"))\n",
        "num2 = float(input(\"Introduce el segundo número: \"))\n",
        "\n",
        "n=int(input(\"Que operación deseas hacer? Suma=1 Resta=2 Multiplicación=3 División=4\\n\"))\n",
        "\n",
        "def suma(num1,num2):\n",
        "  return num1+num2\n",
        "\n",
        "def resta(num1,num2):\n",
        "  return num1-num2\n",
        "\n",
        "def multi(num1,num2):\n",
        "  return num1*num2\n",
        "\n",
        "def div(num1,num2):\n",
        "  if num2 == 0:\n",
        "    print(\"No se puede dividir entre 0\")\n",
        "  else:\n",
        "    return num1/num2\n",
        "\n",
        "if n==1:\n",
        "  print(\"El resultado es \", suma(num1,num2))\n",
        "elif n==2:\n",
        "  print(\"El resultado es \", resta(num1,num2))\n",
        "elif n==3:\n",
        "  print(\"El resultado es \", multi(num1,num2))\n",
        "elif n==4:\n",
        "  print(\"El resultado es \", div(num1,num2))\n",
        "else:\n",
        "  print(\"No existe esta opción.\")\n",
        "\n"
      ],
      "metadata": {
        "colab": {
          "base_uri": "https://localhost:8080/"
        },
        "id": "W-BM6aJUtkWq",
        "outputId": "ae2fdf48-82a5-423d-adde-b652b7fd59cf"
      },
      "execution_count": null,
      "outputs": [
        {
          "output_type": "stream",
          "name": "stdout",
          "text": [
            "Introduce el primer número: 15.5\n",
            "Introduce el segundo número: 3\n",
            "Que operación deseas hacer? Suma=1 Resta=2 Multiplicación=3 División=4\n",
            "3\n",
            "El resultado es  46.5\n"
          ]
        }
      ]
    }
  ]
}