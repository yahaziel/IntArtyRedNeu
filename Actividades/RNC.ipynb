{
  "nbformat": 4,
  "nbformat_minor": 0,
  "metadata": {
    "colab": {
      "provenance": []
    },
    "kernelspec": {
      "name": "python3",
      "display_name": "Python 3"
    },
    "language_info": {
      "name": "python"
    }
  },
  "cells": [
    {
      "cell_type": "code",
      "execution_count": null,
      "metadata": {
        "id": "F-N-xZrbbQ2q"
      },
      "outputs": [],
      "source": [
        "# Actividad 6: Redes neuronales. DAVID YAHAZIEL DÍAZ GUILLÉN 2109534 N1"
      ]
    },
    {
      "cell_type": "code",
      "source": [
        "# Cargar Librerias\n",
        "import tensorflow as tf\n",
        "from tensorflow import keras\n",
        "from tensorflow.keras import datasets, layers, models\n",
        "import matplotlib.pyplot as plt\n",
        "import numpy as np"
      ],
      "metadata": {
        "id": "nwBQjcDDbbik"
      },
      "execution_count": 25,
      "outputs": []
    },
    {
      "cell_type": "code",
      "source": [
        "# Cargar datos\n",
        "mnist = keras.datasets.mnist\n",
        "(train_data, train_labels), (test_data, test_labels) = mnist.load_data(path=\"mnist.npz\")\n"
      ],
      "metadata": {
        "id": "QZjQViqybg4N"
      },
      "execution_count": 35,
      "outputs": []
    },
    {
      "cell_type": "code",
      "source": [
        "# Preprocesamiento de datos\n",
        "train_data, test_data = train_data / 255.0, test_data / 255.0"
      ],
      "metadata": {
        "id": "NrLvDBQHczAC"
      },
      "execution_count": 36,
      "outputs": []
    },
    {
      "cell_type": "code",
      "source": [
        "# Selección y entrenamiento del modelo.\n",
        "model = models.Sequential()\n",
        "model.add(layers.Conv2D(32, (3, 3), activation='relu', input_shape=(28, 28, 1)))\n",
        "model.add(layers.MaxPooling2D((2, 2)))\n",
        "model.add(layers.Conv2D(64, (3, 3), activation='relu'))\n",
        "model.add(layers.MaxPooling2D((2, 2)))\n",
        "model.add(layers.Conv2D(64, (3, 3), activation='relu'))\n",
        "model.add(layers.Flatten())\n",
        "model.add(layers.Dense(64, activation='relu'))\n",
        "model.add(layers.Dense(10))"
      ],
      "metadata": {
        "id": "96pZ_hl8dGcg"
      },
      "execution_count": 46,
      "outputs": []
    },
    {
      "cell_type": "code",
      "source": [
        "# Prueba de modelo.\n",
        "model.summary()"
      ],
      "metadata": {
        "colab": {
          "base_uri": "https://localhost:8080/"
        },
        "id": "yAJEDxCsdx1S",
        "outputId": "cd7dab09-57c9-463e-fe4f-e53284b17f8c"
      },
      "execution_count": 47,
      "outputs": [
        {
          "output_type": "stream",
          "name": "stdout",
          "text": [
            "Model: \"sequential_6\"\n",
            "_________________________________________________________________\n",
            " Layer (type)                Output Shape              Param #   \n",
            "=================================================================\n",
            " conv2d_18 (Conv2D)          (None, 26, 26, 32)        320       \n",
            "                                                                 \n",
            " max_pooling2d_12 (MaxPooli  (None, 13, 13, 32)        0         \n",
            " ng2D)                                                           \n",
            "                                                                 \n",
            " conv2d_19 (Conv2D)          (None, 11, 11, 64)        18496     \n",
            "                                                                 \n",
            " max_pooling2d_13 (MaxPooli  (None, 5, 5, 64)          0         \n",
            " ng2D)                                                           \n",
            "                                                                 \n",
            " conv2d_20 (Conv2D)          (None, 3, 3, 64)          36928     \n",
            "                                                                 \n",
            " flatten_5 (Flatten)         (None, 576)               0         \n",
            "                                                                 \n",
            " dense_10 (Dense)            (None, 64)                36928     \n",
            "                                                                 \n",
            " dense_11 (Dense)            (None, 10)                650       \n",
            "                                                                 \n",
            "=================================================================\n",
            "Total params: 93322 (364.54 KB)\n",
            "Trainable params: 93322 (364.54 KB)\n",
            "Non-trainable params: 0 (0.00 Byte)\n",
            "_________________________________________________________________\n"
          ]
        }
      ]
    },
    {
      "cell_type": "code",
      "source": [
        "model.compile(optimizer='adam',\n",
        "              loss=tf.keras.losses.SparseCategoricalCrossentropy(from_logits=True),\n",
        "              metrics=['accuracy'])\n"
      ],
      "metadata": {
        "id": "uhllRzD9f3j-"
      },
      "execution_count": 48,
      "outputs": []
    },
    {
      "cell_type": "code",
      "source": [
        "history = model.fit(train_data, train_labels, epochs=10,\n",
        "                    validation_data=(test_data, test_labels))"
      ],
      "metadata": {
        "colab": {
          "base_uri": "https://localhost:8080/"
        },
        "id": "5pKDlxiigdLK",
        "outputId": "b151028b-0fd2-4ab9-d959-c2c79b5d86e7"
      },
      "execution_count": 50,
      "outputs": [
        {
          "output_type": "stream",
          "name": "stdout",
          "text": [
            "Epoch 1/10\n",
            "1875/1875 [==============================] - 60s 32ms/step - loss: 0.0433 - accuracy: 0.9868 - val_loss: 0.0431 - val_accuracy: 0.9858\n",
            "Epoch 2/10\n",
            "1875/1875 [==============================] - 56s 30ms/step - loss: 0.0318 - accuracy: 0.9900 - val_loss: 0.0282 - val_accuracy: 0.9913\n",
            "Epoch 3/10\n",
            "1875/1875 [==============================] - 56s 30ms/step - loss: 0.0243 - accuracy: 0.9921 - val_loss: 0.0313 - val_accuracy: 0.9897\n",
            "Epoch 4/10\n",
            "1875/1875 [==============================] - 59s 32ms/step - loss: 0.0183 - accuracy: 0.9946 - val_loss: 0.0348 - val_accuracy: 0.9903\n",
            "Epoch 5/10\n",
            "1875/1875 [==============================] - 56s 30ms/step - loss: 0.0166 - accuracy: 0.9945 - val_loss: 0.0331 - val_accuracy: 0.9899\n",
            "Epoch 6/10\n",
            "1875/1875 [==============================] - 56s 30ms/step - loss: 0.0133 - accuracy: 0.9957 - val_loss: 0.0337 - val_accuracy: 0.9907\n",
            "Epoch 7/10\n",
            "1875/1875 [==============================] - 56s 30ms/step - loss: 0.0115 - accuracy: 0.9963 - val_loss: 0.0339 - val_accuracy: 0.9907\n",
            "Epoch 8/10\n",
            "1875/1875 [==============================] - 57s 30ms/step - loss: 0.0093 - accuracy: 0.9969 - val_loss: 0.0301 - val_accuracy: 0.9919\n",
            "Epoch 9/10\n",
            "1875/1875 [==============================] - 59s 31ms/step - loss: 0.0095 - accuracy: 0.9969 - val_loss: 0.0324 - val_accuracy: 0.9922\n",
            "Epoch 10/10\n",
            "1875/1875 [==============================] - 56s 30ms/step - loss: 0.0078 - accuracy: 0.9973 - val_loss: 0.0325 - val_accuracy: 0.9925\n"
          ]
        }
      ]
    },
    {
      "cell_type": "code",
      "source": [
        "test_loss, test_accuracy = model.evaluate(test_data, test_labels)\n",
        "print(\"Exactitud del modelo en datos de prueba:\", test_accuracy)"
      ],
      "metadata": {
        "id": "1vwwKxczj0Bz",
        "outputId": "856f4ad8-2aba-408b-df86-4c4dfb8d5ebb",
        "colab": {
          "base_uri": "https://localhost:8080/"
        }
      },
      "execution_count": 51,
      "outputs": [
        {
          "output_type": "stream",
          "name": "stdout",
          "text": [
            "313/313 [==============================] - 4s 12ms/step - loss: 0.0325 - accuracy: 0.9925\n",
            "Exactitud del modelo en datos de prueba: 0.9925000071525574\n"
          ]
        }
      ]
    },
    {
      "cell_type": "code",
      "source": [
        "# Predicciones\n",
        "predictions = model.predict(test_data)"
      ],
      "metadata": {
        "id": "mnV4FdZ5j5AG",
        "outputId": "017482ba-0de9-48ce-fb14-1a4a29ec72bf",
        "colab": {
          "base_uri": "https://localhost:8080/"
        }
      },
      "execution_count": 52,
      "outputs": [
        {
          "output_type": "stream",
          "name": "stdout",
          "text": [
            "313/313 [==============================] - 4s 12ms/step\n"
          ]
        }
      ]
    },
    {
      "cell_type": "code",
      "source": [
        "# Predicción 1\n",
        "np.argmax(predictions[0])\n"
      ],
      "metadata": {
        "id": "GpUIjEbXkC8v",
        "outputId": "74df2392-317a-4d00-9a9d-039ed3244cd1",
        "colab": {
          "base_uri": "https://localhost:8080/"
        }
      },
      "execution_count": 53,
      "outputs": [
        {
          "output_type": "execute_result",
          "data": {
            "text/plain": [
              "7"
            ]
          },
          "metadata": {},
          "execution_count": 53
        }
      ]
    },
    {
      "cell_type": "code",
      "source": [
        "# Valor real 1\n",
        "test_labels[0]"
      ],
      "metadata": {
        "id": "xMMns-5ckDv4",
        "outputId": "d1a934a9-d60c-4a67-c7b6-b17326d79c4c",
        "colab": {
          "base_uri": "https://localhost:8080/"
        }
      },
      "execution_count": 54,
      "outputs": [
        {
          "output_type": "execute_result",
          "data": {
            "text/plain": [
              "7"
            ]
          },
          "metadata": {},
          "execution_count": 54
        }
      ]
    },
    {
      "cell_type": "code",
      "source": [
        "# Predicción 2\n",
        "np.argmax(predictions[52])"
      ],
      "metadata": {
        "id": "yA1TrP60kIor",
        "outputId": "bf443db1-6a0d-4aa0-cf5f-036dda8c7db8",
        "colab": {
          "base_uri": "https://localhost:8080/"
        }
      },
      "execution_count": 55,
      "outputs": [
        {
          "output_type": "execute_result",
          "data": {
            "text/plain": [
              "5"
            ]
          },
          "metadata": {},
          "execution_count": 55
        }
      ]
    },
    {
      "cell_type": "code",
      "source": [
        "# Valor real 2\n",
        "test_labels[52]"
      ],
      "metadata": {
        "id": "qgyFryNdkYkO",
        "outputId": "0b284f58-b8e2-4dd2-a142-4ef9f5094eaa",
        "colab": {
          "base_uri": "https://localhost:8080/"
        }
      },
      "execution_count": 56,
      "outputs": [
        {
          "output_type": "execute_result",
          "data": {
            "text/plain": [
              "5"
            ]
          },
          "metadata": {},
          "execution_count": 56
        }
      ]
    },
    {
      "cell_type": "code",
      "source": [
        "# Predicción 3\n",
        "np.argmax(predictions[-52])"
      ],
      "metadata": {
        "id": "qga_V7eSkaMs",
        "outputId": "c8daacc3-39ae-4d10-ff3a-1e8d83b12c3a",
        "colab": {
          "base_uri": "https://localhost:8080/"
        }
      },
      "execution_count": 57,
      "outputs": [
        {
          "output_type": "execute_result",
          "data": {
            "text/plain": [
              "0"
            ]
          },
          "metadata": {},
          "execution_count": 57
        }
      ]
    },
    {
      "cell_type": "code",
      "source": [
        "# Valor real 3\n",
        "test_labels[-52]"
      ],
      "metadata": {
        "id": "zXiDigk5kaJu",
        "outputId": "9f2c9b2e-e3de-45f8-b8de-499e13be8ebf",
        "colab": {
          "base_uri": "https://localhost:8080/"
        }
      },
      "execution_count": 58,
      "outputs": [
        {
          "output_type": "execute_result",
          "data": {
            "text/plain": [
              "0"
            ]
          },
          "metadata": {},
          "execution_count": 58
        }
      ]
    },
    {
      "cell_type": "code",
      "source": [
        "# Predicción 4\n",
        "np.argmax(predictions[120])"
      ],
      "metadata": {
        "id": "3VmlbafAkZ5-",
        "outputId": "d444792f-8f1f-47e1-f105-589e9b8530a0",
        "colab": {
          "base_uri": "https://localhost:8080/"
        }
      },
      "execution_count": 59,
      "outputs": [
        {
          "output_type": "execute_result",
          "data": {
            "text/plain": [
              "5"
            ]
          },
          "metadata": {},
          "execution_count": 59
        }
      ]
    },
    {
      "cell_type": "code",
      "source": [
        "# Valor real 4\n",
        "test_labels[120]"
      ],
      "metadata": {
        "id": "5wBwFEYSkZ3J",
        "outputId": "5809f06c-7814-4472-bd6e-18b32c30a7fd",
        "colab": {
          "base_uri": "https://localhost:8080/"
        }
      },
      "execution_count": 60,
      "outputs": [
        {
          "output_type": "execute_result",
          "data": {
            "text/plain": [
              "5"
            ]
          },
          "metadata": {},
          "execution_count": 60
        }
      ]
    },
    {
      "cell_type": "code",
      "source": [
        "# Predicción 5\n",
        "np.argmax(predictions[-120])"
      ],
      "metadata": {
        "id": "WR4E47DQkZpO",
        "outputId": "27066c53-312f-48ae-f049-1e21becab6a5",
        "colab": {
          "base_uri": "https://localhost:8080/"
        }
      },
      "execution_count": 61,
      "outputs": [
        {
          "output_type": "execute_result",
          "data": {
            "text/plain": [
              "2"
            ]
          },
          "metadata": {},
          "execution_count": 61
        }
      ]
    },
    {
      "cell_type": "code",
      "source": [
        "# Valor real 5\n",
        "test_labels[-120]"
      ],
      "metadata": {
        "id": "G7c9SVbQkZZF",
        "outputId": "1ac93d23-49c0-411b-fb37-c60249b71897",
        "colab": {
          "base_uri": "https://localhost:8080/"
        }
      },
      "execution_count": 62,
      "outputs": [
        {
          "output_type": "execute_result",
          "data": {
            "text/plain": [
              "2"
            ]
          },
          "metadata": {},
          "execution_count": 62
        }
      ]
    },
    {
      "cell_type": "markdown",
      "source": [
        "¿Cuántas épocas usaste para mejorar el rendimiento del modelo en comparación con la red neuronal prealimentada de la actividad 5?\n",
        "Se usarón 10 épocas, sin embargo desde la primera epoca se obtuvo una mayor exactitud que la que se obtuvo en la actividad 5 con 10 épocas.\n",
        "\n",
        "\n",
        "¿Obtuviste un mejor rendimiento con este modelo o con el de la actividad 5? ¿Por qué?\n",
        "Se obtuvo una mayor exactitud y una menor perdida en comparación con la actividad 5, considero que esto se debe al polling, ya que esto permitió que el sistema pudiera identificar de mejor manera los detalles de cada número y así aumentar su rendimiento."
      ],
      "metadata": {
        "id": "92UgKvcskjkT"
      }
    }
  ]
}